{
 "cells": [
  {
   "cell_type": "code",
   "execution_count": 1,
   "id": "66038eb2",
   "metadata": {},
   "outputs": [],
   "source": [
    "import numpy as np\n",
    "import pandas as pd\n",
    "import matplotlib.pyplot as plt\n",
    "import seaborn as sns"
   ]
  },
  {
   "cell_type": "code",
   "execution_count": 2,
   "id": "dcd994d8",
   "metadata": {},
   "outputs": [],
   "source": [
    "df = pd.read_table(\"Rg2_Globule.txt\")"
   ]
  },
  {
   "cell_type": "code",
   "execution_count": 3,
   "id": "3a07ec54",
   "metadata": {},
   "outputs": [
    {
     "data": {
      "text/html": [
       "<div>\n",
       "<style scoped>\n",
       "    .dataframe tbody tr th:only-of-type {\n",
       "        vertical-align: middle;\n",
       "    }\n",
       "\n",
       "    .dataframe tbody tr th {\n",
       "        vertical-align: top;\n",
       "    }\n",
       "\n",
       "    .dataframe thead th {\n",
       "        text-align: right;\n",
       "    }\n",
       "</style>\n",
       "<table border=\"1\" class=\"dataframe\">\n",
       "  <thead>\n",
       "    <tr style=\"text-align: right;\">\n",
       "      <th></th>\n",
       "      <th>N</th>\n",
       "    </tr>\n",
       "  </thead>\n",
       "  <tbody>\n",
       "    <tr>\n",
       "      <th>1.252651</th>\n",
       "      <td>10.0</td>\n",
       "    </tr>\n",
       "    <tr>\n",
       "      <th>1.296321</th>\n",
       "      <td>11.0</td>\n",
       "    </tr>\n",
       "    <tr>\n",
       "      <th>1.321984</th>\n",
       "      <td>12.0</td>\n",
       "    </tr>\n",
       "    <tr>\n",
       "      <th>1.374594</th>\n",
       "      <td>13.0</td>\n",
       "    </tr>\n",
       "    <tr>\n",
       "      <th>1.406893</th>\n",
       "      <td>14.0</td>\n",
       "    </tr>\n",
       "  </tbody>\n",
       "</table>\n",
       "</div>"
      ],
      "text/plain": [
       "             N\n",
       "1.252651  10.0\n",
       "1.296321  11.0\n",
       "1.321984  12.0\n",
       "1.374594  13.0\n",
       "1.406893  14.0"
      ]
     },
     "execution_count": 3,
     "metadata": {},
     "output_type": "execute_result"
    }
   ],
   "source": [
    "df.head()"
   ]
  },
  {
   "cell_type": "code",
   "execution_count": 4,
   "id": "e8bee10f",
   "metadata": {},
   "outputs": [],
   "source": [
    "df['Radius of Gyration'] = df.index"
   ]
  },
  {
   "cell_type": "code",
   "execution_count": 5,
   "id": "a08a585b",
   "metadata": {},
   "outputs": [],
   "source": [
    "df = df.reset_index(drop=True)"
   ]
  },
  {
   "cell_type": "code",
   "execution_count": 6,
   "id": "fac6b5fd",
   "metadata": {},
   "outputs": [
    {
     "data": {
      "text/html": [
       "<div>\n",
       "<style scoped>\n",
       "    .dataframe tbody tr th:only-of-type {\n",
       "        vertical-align: middle;\n",
       "    }\n",
       "\n",
       "    .dataframe tbody tr th {\n",
       "        vertical-align: top;\n",
       "    }\n",
       "\n",
       "    .dataframe thead th {\n",
       "        text-align: right;\n",
       "    }\n",
       "</style>\n",
       "<table border=\"1\" class=\"dataframe\">\n",
       "  <thead>\n",
       "    <tr style=\"text-align: right;\">\n",
       "      <th></th>\n",
       "      <th>N</th>\n",
       "      <th>Radius of Gyration</th>\n",
       "    </tr>\n",
       "  </thead>\n",
       "  <tbody>\n",
       "    <tr>\n",
       "      <th>0</th>\n",
       "      <td>10.0</td>\n",
       "      <td>1.252651</td>\n",
       "    </tr>\n",
       "    <tr>\n",
       "      <th>1</th>\n",
       "      <td>11.0</td>\n",
       "      <td>1.296321</td>\n",
       "    </tr>\n",
       "    <tr>\n",
       "      <th>2</th>\n",
       "      <td>12.0</td>\n",
       "      <td>1.321984</td>\n",
       "    </tr>\n",
       "  </tbody>\n",
       "</table>\n",
       "</div>"
      ],
      "text/plain": [
       "      N  Radius of Gyration\n",
       "0  10.0            1.252651\n",
       "1  11.0            1.296321\n",
       "2  12.0            1.321984"
      ]
     },
     "execution_count": 6,
     "metadata": {},
     "output_type": "execute_result"
    }
   ],
   "source": [
    "df.head(3)"
   ]
  },
  {
   "cell_type": "code",
   "execution_count": 7,
   "id": "3b56a47e",
   "metadata": {},
   "outputs": [
    {
     "data": {
      "text/html": [
       "<div>\n",
       "<style scoped>\n",
       "    .dataframe tbody tr th:only-of-type {\n",
       "        vertical-align: middle;\n",
       "    }\n",
       "\n",
       "    .dataframe tbody tr th {\n",
       "        vertical-align: top;\n",
       "    }\n",
       "\n",
       "    .dataframe thead th {\n",
       "        text-align: right;\n",
       "    }\n",
       "</style>\n",
       "<table border=\"1\" class=\"dataframe\">\n",
       "  <thead>\n",
       "    <tr style=\"text-align: right;\">\n",
       "      <th></th>\n",
       "      <th>N</th>\n",
       "      <th>Radius of Gyration</th>\n",
       "    </tr>\n",
       "  </thead>\n",
       "  <tbody>\n",
       "    <tr>\n",
       "      <th>0</th>\n",
       "      <td>10.0</td>\n",
       "      <td>1.252651</td>\n",
       "    </tr>\n",
       "    <tr>\n",
       "      <th>1</th>\n",
       "      <td>11.0</td>\n",
       "      <td>1.296321</td>\n",
       "    </tr>\n",
       "    <tr>\n",
       "      <th>2</th>\n",
       "      <td>12.0</td>\n",
       "      <td>1.321984</td>\n",
       "    </tr>\n",
       "  </tbody>\n",
       "</table>\n",
       "</div>"
      ],
      "text/plain": [
       "      N  Radius of Gyration\n",
       "0  10.0            1.252651\n",
       "1  11.0            1.296321\n",
       "2  12.0            1.321984"
      ]
     },
     "execution_count": 7,
     "metadata": {},
     "output_type": "execute_result"
    }
   ],
   "source": [
    "df =df.dropna(axis= 0)\n",
    "df.head(3)"
   ]
  },
  {
   "cell_type": "code",
   "execution_count": 8,
   "id": "ec738726",
   "metadata": {},
   "outputs": [],
   "source": [
    "from sklearn.model_selection import train_test_split"
   ]
  },
  {
   "cell_type": "code",
   "execution_count": 9,
   "id": "e5a49cd8",
   "metadata": {},
   "outputs": [
    {
     "data": {
      "text/plain": [
       "<seaborn.axisgrid.PairGrid at 0x26064d76460>"
      ]
     },
     "execution_count": 9,
     "metadata": {},
     "output_type": "execute_result"
    },
    {
     "data": {
      "image/png": "[encoded data removed]",
      "text/plain": [
       "<Figure size 576x576 with 6 Axes>"
      ]
     },
     "metadata": {
      "needs_background": "light"
     },
     "output_type": "display_data"
    }
   ],
   "source": [
    "# plt.plot(figsize = (12,5))\n",
    "sns.pairplot(df.iloc[:200], height=4)"
   ]
  },
  {
   "cell_type": "code",
   "execution_count": 10,
   "id": "ef480151",
   "metadata": {},
   "outputs": [],
   "source": [
    "X_train, X_test, y_train, y_test = train_test_split(df['N'].values, df['Radius of Gyration'].values, test_size= 0.2,random_state=101 )"
   ]
  },
  {
   "cell_type": "code",
   "execution_count": 11,
   "id": "f0b8422e",
   "metadata": {},
   "outputs": [
    {
     "data": {
      "text/plain": [
       "<matplotlib.collections.PathCollection at 0x26065a15760>"
      ]
     },
     "execution_count": 11,
     "metadata": {},
     "output_type": "execute_result"
    },
    {
     "data": {
      "image/png": "[encoded data removed]",
      "text/plain": [
       "<Figure size 432x288 with 1 Axes>"
      ]
     },
     "metadata": {
      "needs_background": "light"
     },
     "output_type": "display_data"
    }
   ],
   "source": [
    "plt.scatter(X_train, y_train)"
   ]
  },
  {
   "cell_type": "code",
   "execution_count": 12,
   "id": "191e05a9",
   "metadata": {},
   "outputs": [],
   "source": [
    "X_test = X_test.reshape(-1,1)\n",
    "X_train = X_train.reshape(-1,1)"
   ]
  },
  {
   "cell_type": "markdown",
   "id": "657fa754",
   "metadata": {},
   "source": [
    "### Predicting Using Linear Regression"
   ]
  },
  {
   "cell_type": "code",
   "execution_count": 13,
   "id": "56f8092b",
   "metadata": {},
   "outputs": [],
   "source": [
    "from sklearn.linear_model import LinearRegression"
   ]
  },
  {
   "cell_type": "code",
   "execution_count": 14,
   "id": "8ea55876",
   "metadata": {},
   "outputs": [],
   "source": [
    "model = LinearRegression()"
   ]
  },
  {
   "cell_type": "code",
   "execution_count": 15,
   "id": "50c94158",
   "metadata": {},
   "outputs": [
    {
     "data": {
      "text/plain": [
       "LinearRegression()"
      ]
     },
     "execution_count": 15,
     "metadata": {},
     "output_type": "execute_result"
    }
   ],
   "source": [
    "model.fit(X_train,y_train)"
   ]
  },
  {
   "cell_type": "code",
   "execution_count": 16,
   "id": "e5730a42",
   "metadata": {},
   "outputs": [],
   "source": [
    "predictions = model.predict(X_test)"
   ]
  },
  {
   "cell_type": "code",
   "execution_count": 17,
   "id": "cb7f63e9",
   "metadata": {},
   "outputs": [
    {
     "data": {
      "text/plain": [
       "46"
      ]
     },
     "execution_count": 17,
     "metadata": {},
     "output_type": "execute_result"
    }
   ],
   "source": [
    "X_test.size"
   ]
  },
  {
   "cell_type": "code",
   "execution_count": 18,
   "id": "d780230c",
   "metadata": {},
   "outputs": [
    {
     "data": {
      "text/plain": [
       "<seaborn.axisgrid.PairGrid at 0x26065bd4640>"
      ]
     },
     "execution_count": 18,
     "metadata": {},
     "output_type": "execute_result"
    },
    {
     "data": {
      "image/png": "[encoded data removed]",
      "text/plain": [
       "<Figure size 576x576 with 6 Axes>"
      ]
     },
     "metadata": {
      "needs_background": "light"
     },
     "output_type": "display_data"
    }
   ],
   "source": [
    "df2 = pd.DataFrame(predictions,y_test, columns={\"Accurate Value\"})\n",
    "df2['Predicted Value'] = y_test\n",
    "df2.index = np.arange(1,X_test.size+1,1)\n",
    "sns.pairplot(df2, height= 4)"
   ]
  },
  {
   "cell_type": "code",
   "execution_count": 19,
   "id": "2591c4a2",
   "metadata": {},
   "outputs": [
    {
     "data": {
      "text/html": [
       "<div>\n",
       "<style scoped>\n",
       "    .dataframe tbody tr th:only-of-type {\n",
       "        vertical-align: middle;\n",
       "    }\n",
       "\n",
       "    .dataframe tbody tr th {\n",
       "        vertical-align: top;\n",
       "    }\n",
       "\n",
       "    .dataframe thead th {\n",
       "        text-align: right;\n",
       "    }\n",
       "</style>\n",
       "<table border=\"1\" class=\"dataframe\">\n",
       "  <thead>\n",
       "    <tr style=\"text-align: right;\">\n",
       "      <th></th>\n",
       "      <th>Accurate Value</th>\n",
       "      <th>Predicted Value</th>\n",
       "    </tr>\n",
       "  </thead>\n",
       "  <tbody>\n",
       "    <tr>\n",
       "      <th>1</th>\n",
       "      <td>2.190917</td>\n",
       "      <td>2.286641</td>\n",
       "    </tr>\n",
       "    <tr>\n",
       "      <th>2</th>\n",
       "      <td>2.097482</td>\n",
       "      <td>2.187724</td>\n",
       "    </tr>\n",
       "    <tr>\n",
       "      <th>3</th>\n",
       "      <td>3.156416</td>\n",
       "      <td>3.095297</td>\n",
       "    </tr>\n",
       "  </tbody>\n",
       "</table>\n",
       "</div>"
      ],
      "text/plain": [
       "   Accurate Value  Predicted Value\n",
       "1        2.190917         2.286641\n",
       "2        2.097482         2.187724\n",
       "3        3.156416         3.095297"
      ]
     },
     "execution_count": 19,
     "metadata": {},
     "output_type": "execute_result"
    }
   ],
   "source": [
    "df2.head(3)"
   ]
  },
  {
   "cell_type": "code",
   "execution_count": 20,
   "id": "50ae17f2",
   "metadata": {},
   "outputs": [],
   "source": [
    "from sklearn.metrics import r2_score, mean_squared_error"
   ]
  },
  {
   "cell_type": "code",
   "execution_count": 21,
   "id": "01e1423d",
   "metadata": {},
   "outputs": [
    {
     "data": {
      "text/plain": [
       "0.9659186553053947"
      ]
     },
     "execution_count": 21,
     "metadata": {},
     "output_type": "execute_result"
    }
   ],
   "source": [
    "r2_score(y_test,predictions)"
   ]
  },
  {
   "cell_type": "code",
   "execution_count": 22,
   "id": "7faa5393",
   "metadata": {},
   "outputs": [
    {
     "data": {
      "text/plain": [
       "0.008950777432889651"
      ]
     },
     "execution_count": 22,
     "metadata": {},
     "output_type": "execute_result"
    }
   ],
   "source": [
    "mean_squared_error(y_test,predictions)"
   ]
  },
  {
   "cell_type": "code",
   "execution_count": null,
   "id": "5d570618",
   "metadata": {},
   "outputs": [],
   "source": []
  },
  {
   "cell_type": "markdown",
   "id": "9799406b",
   "metadata": {},
   "source": [
    "### Prediction using ANN"
   ]
  },
  {
   "cell_type": "code",
   "execution_count": 42,
   "id": "4a1ccf3a",
   "metadata": {},
   "outputs": [],
   "source": [
    "from tensorflow.keras.models import Sequential\n",
    "from tensorflow.keras.layers import Dense,Dropout\n",
    "from tensorflow.keras.optimizers import Adam"
   ]
  },
  {
   "cell_type": "code",
   "execution_count": 52,
   "id": "15a549bc",
   "metadata": {},
   "outputs": [],
   "source": [
    "model = Sequential()\n",
    "model.add(Dense(1))\n",
    "model.add(Dense(10,activation=\"relu\"))\n",
    "model.add(Dense(10,activation=\"relu\"))\n",
    "model.add(Dense(10,activation=\"relu\"))\n",
    "# model.add(Dense(10,activation=\"relu\"))\n",
    "# model.add(Dense(10,activation=\"relu\"))\n",
    "model.add(Dense(1))\n",
    "model.compile(optimizer= Adam(learning_rate=0.01), loss= \"mse\" )"
   ]
  },
  {
   "cell_type": "code",
   "execution_count": 53,
   "id": "c6a82ca0",
   "metadata": {},
   "outputs": [],
   "source": [
    "from keras_tuner import RandomSearch, Hyperband\n",
    "from keras_tuner import HyperParameters"
   ]
  },
  {
   "cell_type": "code",
   "execution_count": 54,
   "id": "714f9a4d",
   "metadata": {},
   "outputs": [],
   "source": [
    "# tuner_search = RandomSearch(model,objective= 'val_loss')"
   ]
  },
  {
   "cell_type": "code",
   "execution_count": 55,
   "id": "4f788ce1",
   "metadata": {},
   "outputs": [
    {
     "name": "stdout",
     "output_type": "stream",
     "text": [
      "Epoch 1/200\n",
      "12/12 [==============================] - 0s 12ms/step - loss: 1.9293 - val_loss: 0.7414\n",
      "Epoch 2/200\n",
      "12/12 [==============================] - 0s 5ms/step - loss: 0.7879 - val_loss: 0.5483\n",
      "Epoch 3/200\n",
      "12/12 [==============================] - 0s 4ms/step - loss: 0.6354 - val_loss: 0.3922\n",
      "Epoch 4/200\n",
      "12/12 [==============================] - 0s 4ms/step - loss: 0.3948 - val_loss: 0.3154\n",
      "Epoch 5/200\n",
      "12/12 [==============================] - 0s 5ms/step - loss: 0.2631 - val_loss: 0.2240\n",
      "Epoch 6/200\n",
      "12/12 [==============================] - 0s 5ms/step - loss: 0.2091 - val_loss: 0.2239\n",
      "Epoch 7/200\n",
      "12/12 [==============================] - 0s 4ms/step - loss: 0.1707 - val_loss: 0.1286\n",
      "Epoch 8/200\n",
      "12/12 [==============================] - 0s 5ms/step - loss: 0.1084 - val_loss: 0.0910\n",
      "Epoch 9/200\n",
      "12/12 [==============================] - 0s 5ms/step - loss: 0.0856 - val_loss: 0.1212\n",
      "Epoch 10/200\n",
      "12/12 [==============================] - 0s 6ms/step - loss: 0.0636 - val_loss: 0.0454\n",
      "Epoch 11/200\n",
      "12/12 [==============================] - 0s 4ms/step - loss: 0.0432 - val_loss: 0.0343\n",
      "Epoch 12/200\n",
      "12/12 [==============================] - 0s 5ms/step - loss: 0.0288 - val_loss: 0.0235\n",
      "Epoch 13/200\n",
      "12/12 [==============================] - 0s 5ms/step - loss: 0.0201 - val_loss: 0.0194\n",
      "Epoch 14/200\n",
      "12/12 [==============================] - 0s 5ms/step - loss: 0.0191 - val_loss: 0.0144\n",
      "Epoch 15/200\n",
      "12/12 [==============================] - 0s 5ms/step - loss: 0.0166 - val_loss: 0.0131\n",
      "Epoch 16/200\n",
      "12/12 [==============================] - 0s 5ms/step - loss: 0.0209 - val_loss: 0.0212\n",
      "Epoch 17/200\n",
      "12/12 [==============================] - 0s 6ms/step - loss: 0.0183 - val_loss: 0.0102\n",
      "Epoch 18/200\n",
      "12/12 [==============================] - 0s 5ms/step - loss: 0.0142 - val_loss: 0.0163\n",
      "Epoch 19/200\n",
      "12/12 [==============================] - 0s 4ms/step - loss: 0.0290 - val_loss: 0.0133\n",
      "Epoch 20/200\n",
      "12/12 [==============================] - 0s 5ms/step - loss: 0.0271 - val_loss: 0.0185\n",
      "Epoch 21/200\n",
      "12/12 [==============================] - 0s 5ms/step - loss: 0.0150 - val_loss: 0.0112\n",
      "Epoch 22/200\n",
      "12/12 [==============================] - 0s 5ms/step - loss: 0.0150 - val_loss: 0.0092\n",
      "Epoch 23/200\n",
      "12/12 [==============================] - 0s 5ms/step - loss: 0.0139 - val_loss: 0.0096\n",
      "Epoch 24/200\n",
      "12/12 [==============================] - 0s 5ms/step - loss: 0.0132 - val_loss: 0.0112\n",
      "Epoch 25/200\n",
      "12/12 [==============================] - 0s 4ms/step - loss: 0.0150 - val_loss: 0.0113\n",
      "Epoch 26/200\n",
      "12/12 [==============================] - 0s 5ms/step - loss: 0.0142 - val_loss: 0.0219\n",
      "Epoch 27/200\n",
      "12/12 [==============================] - 0s 4ms/step - loss: 0.0167 - val_loss: 0.0102\n",
      "Epoch 28/200\n",
      "12/12 [==============================] - 0s 5ms/step - loss: 0.0137 - val_loss: 0.0186\n",
      "Epoch 29/200\n",
      "12/12 [==============================] - 0s 5ms/step - loss: 0.0229 - val_loss: 0.0276\n",
      "Epoch 30/200\n",
      "12/12 [==============================] - 0s 5ms/step - loss: 0.0260 - val_loss: 0.0424\n",
      "Epoch 31/200\n",
      "12/12 [==============================] - 0s 5ms/step - loss: 0.0326 - val_loss: 0.0263\n",
      "Epoch 32/200\n",
      "12/12 [==============================] - 0s 4ms/step - loss: 0.0212 - val_loss: 0.0092\n",
      "Epoch 33/200\n",
      "12/12 [==============================] - 0s 6ms/step - loss: 0.0147 - val_loss: 0.0098\n",
      "Epoch 34/200\n",
      "12/12 [==============================] - 0s 6ms/step - loss: 0.0136 - val_loss: 0.0090\n",
      "Epoch 35/200\n",
      "12/12 [==============================] - 0s 5ms/step - loss: 0.0166 - val_loss: 0.0096\n",
      "Epoch 36/200\n",
      "12/12 [==============================] - 0s 5ms/step - loss: 0.0182 - val_loss: 0.0160\n",
      "Epoch 37/200\n",
      "12/12 [==============================] - 0s 5ms/step - loss: 0.0212 - val_loss: 0.0204\n",
      "Epoch 38/200\n",
      "12/12 [==============================] - 0s 5ms/step - loss: 0.0188 - val_loss: 0.0100\n",
      "Epoch 39/200\n",
      "12/12 [==============================] - 0s 5ms/step - loss: 0.0171 - val_loss: 0.0255\n",
      "Epoch 40/200\n",
      "12/12 [==============================] - 0s 4ms/step - loss: 0.0306 - val_loss: 0.0633\n",
      "Epoch 41/200\n",
      "12/12 [==============================] - 0s 5ms/step - loss: 0.0368 - val_loss: 0.0457\n",
      "Epoch 42/200\n",
      "12/12 [==============================] - 0s 5ms/step - loss: 0.0339 - val_loss: 0.0451\n",
      "Epoch 43/200\n",
      "12/12 [==============================] - 0s 4ms/step - loss: 0.0242 - val_loss: 0.0100\n",
      "Epoch 44/200\n",
      "12/12 [==============================] - 0s 5ms/step - loss: 0.0148 - val_loss: 0.0095\n",
      "Epoch 45/200\n",
      "12/12 [==============================] - 0s 4ms/step - loss: 0.0131 - val_loss: 0.0111\n",
      "Epoch 46/200\n",
      "12/12 [==============================] - 0s 4ms/step - loss: 0.0138 - val_loss: 0.0121\n",
      "Epoch 47/200\n",
      "12/12 [==============================] - 0s 5ms/step - loss: 0.0184 - val_loss: 0.0240\n",
      "Epoch 48/200\n",
      "12/12 [==============================] - 0s 4ms/step - loss: 0.0233 - val_loss: 0.0248\n",
      "Epoch 49/200\n",
      "12/12 [==============================] - 0s 5ms/step - loss: 0.0186 - val_loss: 0.0117\n",
      "Epoch 50/200\n",
      "12/12 [==============================] - 0s 5ms/step - loss: 0.0141 - val_loss: 0.0128\n",
      "Epoch 51/200\n",
      "12/12 [==============================] - 0s 5ms/step - loss: 0.0138 - val_loss: 0.0090\n",
      "Epoch 52/200\n",
      "12/12 [==============================] - 0s 5ms/step - loss: 0.0133 - val_loss: 0.0119\n",
      "Epoch 53/200\n",
      "12/12 [==============================] - 0s 5ms/step - loss: 0.0149 - val_loss: 0.0113\n",
      "Epoch 54/200\n",
      "12/12 [==============================] - 0s 5ms/step - loss: 0.0193 - val_loss: 0.0103\n",
      "Epoch 55/200\n",
      "12/12 [==============================] - 0s 4ms/step - loss: 0.0240 - val_loss: 0.0202\n",
      "Epoch 56/200\n",
      "12/12 [==============================] - 0s 4ms/step - loss: 0.0212 - val_loss: 0.0094\n",
      "Epoch 57/200\n",
      "12/12 [==============================] - 0s 4ms/step - loss: 0.0172 - val_loss: 0.0090\n",
      "Epoch 58/200\n",
      "12/12 [==============================] - 0s 4ms/step - loss: 0.0223 - val_loss: 0.0175\n",
      "Epoch 59/200\n",
      "12/12 [==============================] - 0s 4ms/step - loss: 0.0156 - val_loss: 0.0106\n",
      "Epoch 60/200\n",
      "12/12 [==============================] - 0s 4ms/step - loss: 0.0142 - val_loss: 0.0108\n",
      "Epoch 61/200\n",
      "12/12 [==============================] - 0s 4ms/step - loss: 0.0141 - val_loss: 0.0097\n",
      "Epoch 62/200\n",
      "12/12 [==============================] - 0s 4ms/step - loss: 0.0130 - val_loss: 0.0088\n",
      "Epoch 63/200\n",
      "12/12 [==============================] - 0s 5ms/step - loss: 0.0146 - val_loss: 0.0219\n",
      "Epoch 64/200\n",
      "12/12 [==============================] - 0s 5ms/step - loss: 0.0233 - val_loss: 0.0157\n",
      "Epoch 65/200\n",
      "12/12 [==============================] - 0s 5ms/step - loss: 0.0245 - val_loss: 0.0107\n",
      "Epoch 66/200\n",
      "12/12 [==============================] - 0s 5ms/step - loss: 0.0145 - val_loss: 0.0159\n",
      "Epoch 67/200\n",
      "12/12 [==============================] - 0s 5ms/step - loss: 0.0138 - val_loss: 0.0097\n",
      "Epoch 68/200\n",
      "12/12 [==============================] - 0s 5ms/step - loss: 0.0133 - val_loss: 0.0162\n",
      "Epoch 69/200\n",
      "12/12 [==============================] - 0s 5ms/step - loss: 0.0168 - val_loss: 0.0160\n",
      "Epoch 70/200\n",
      "12/12 [==============================] - 0s 4ms/step - loss: 0.0272 - val_loss: 0.0585\n",
      "Epoch 71/200\n",
      "12/12 [==============================] - 0s 4ms/step - loss: 0.0234 - val_loss: 0.0090\n",
      "Epoch 72/200\n",
      "12/12 [==============================] - 0s 6ms/step - loss: 0.0144 - val_loss: 0.0108\n",
      "Epoch 73/200\n",
      "12/12 [==============================] - 0s 5ms/step - loss: 0.0159 - val_loss: 0.0207\n",
      "Epoch 74/200\n",
      "12/12 [==============================] - 0s 4ms/step - loss: 0.0143 - val_loss: 0.0113\n",
      "Epoch 75/200\n",
      "12/12 [==============================] - 0s 4ms/step - loss: 0.0186 - val_loss: 0.0116\n",
      "Epoch 76/200\n",
      "12/12 [==============================] - 0s 6ms/step - loss: 0.0167 - val_loss: 0.0092\n",
      "Epoch 77/200\n",
      "12/12 [==============================] - 0s 4ms/step - loss: 0.0135 - val_loss: 0.0141\n",
      "Epoch 78/200\n",
      "12/12 [==============================] - 0s 5ms/step - loss: 0.0132 - val_loss: 0.0118\n",
      "Epoch 79/200\n",
      "12/12 [==============================] - 0s 6ms/step - loss: 0.0133 - val_loss: 0.0105\n",
      "Epoch 80/200\n",
      "12/12 [==============================] - 0s 6ms/step - loss: 0.0175 - val_loss: 0.0112\n",
      "Epoch 81/200\n",
      "12/12 [==============================] - 0s 6ms/step - loss: 0.0169 - val_loss: 0.0117\n",
      "Epoch 82/200\n",
      "12/12 [==============================] - 0s 6ms/step - loss: 0.0143 - val_loss: 0.0097\n",
      "Epoch 83/200\n"
     ]
    },
    {
     "name": "stdout",
     "output_type": "stream",
     "text": [
      "12/12 [==============================] - 0s 5ms/step - loss: 0.0135 - val_loss: 0.0155\n",
      "Epoch 84/200\n",
      "12/12 [==============================] - 0s 4ms/step - loss: 0.0188 - val_loss: 0.0098\n",
      "Epoch 85/200\n",
      "12/12 [==============================] - 0s 4ms/step - loss: 0.0158 - val_loss: 0.0152\n",
      "Epoch 86/200\n",
      "12/12 [==============================] - 0s 4ms/step - loss: 0.0166 - val_loss: 0.0125\n",
      "Epoch 87/200\n",
      "12/12 [==============================] - 0s 4ms/step - loss: 0.0144 - val_loss: 0.0087\n",
      "Epoch 88/200\n",
      "12/12 [==============================] - 0s 4ms/step - loss: 0.0156 - val_loss: 0.0090\n",
      "Epoch 89/200\n",
      "12/12 [==============================] - 0s 4ms/step - loss: 0.0151 - val_loss: 0.0096\n",
      "Epoch 90/200\n",
      "12/12 [==============================] - 0s 5ms/step - loss: 0.0132 - val_loss: 0.0090\n",
      "Epoch 91/200\n",
      "12/12 [==============================] - 0s 5ms/step - loss: 0.0130 - val_loss: 0.0144\n",
      "Epoch 92/200\n",
      "12/12 [==============================] - 0s 5ms/step - loss: 0.0152 - val_loss: 0.0094\n",
      "Epoch 93/200\n",
      "12/12 [==============================] - 0s 5ms/step - loss: 0.0139 - val_loss: 0.0316\n",
      "Epoch 94/200\n",
      "12/12 [==============================] - 0s 5ms/step - loss: 0.0298 - val_loss: 0.0303\n",
      "Epoch 95/200\n",
      "12/12 [==============================] - 0s 5ms/step - loss: 0.0175 - val_loss: 0.0128\n",
      "Epoch 96/200\n",
      "12/12 [==============================] - 0s 4ms/step - loss: 0.0183 - val_loss: 0.0324\n",
      "Epoch 97/200\n",
      "12/12 [==============================] - 0s 6ms/step - loss: 0.0217 - val_loss: 0.0093\n",
      "Epoch 98/200\n",
      "12/12 [==============================] - 0s 4ms/step - loss: 0.0130 - val_loss: 0.0122\n",
      "Epoch 99/200\n",
      "12/12 [==============================] - 0s 5ms/step - loss: 0.0134 - val_loss: 0.0158\n",
      "Epoch 100/200\n",
      "12/12 [==============================] - 0s 6ms/step - loss: 0.0209 - val_loss: 0.0146\n",
      "Epoch 101/200\n",
      "12/12 [==============================] - 0s 5ms/step - loss: 0.0176 - val_loss: 0.0093\n",
      "Epoch 102/200\n",
      "12/12 [==============================] - 0s 5ms/step - loss: 0.0176 - val_loss: 0.0281\n",
      "Epoch 103/200\n",
      "12/12 [==============================] - 0s 5ms/step - loss: 0.0205 - val_loss: 0.0125\n",
      "Epoch 104/200\n",
      "12/12 [==============================] - 0s 5ms/step - loss: 0.0164 - val_loss: 0.0104\n",
      "Epoch 105/200\n",
      "12/12 [==============================] - 0s 5ms/step - loss: 0.0139 - val_loss: 0.0095\n",
      "Epoch 106/200\n",
      "12/12 [==============================] - 0s 5ms/step - loss: 0.0130 - val_loss: 0.0113\n",
      "Epoch 107/200\n",
      "12/12 [==============================] - 0s 4ms/step - loss: 0.0162 - val_loss: 0.0297\n",
      "Epoch 108/200\n",
      "12/12 [==============================] - 0s 4ms/step - loss: 0.0231 - val_loss: 0.0093\n",
      "Epoch 109/200\n",
      "12/12 [==============================] - 0s 4ms/step - loss: 0.0139 - val_loss: 0.0090\n",
      "Epoch 110/200\n",
      "12/12 [==============================] - 0s 4ms/step - loss: 0.0140 - val_loss: 0.0099\n",
      "Epoch 111/200\n",
      "12/12 [==============================] - 0s 5ms/step - loss: 0.0169 - val_loss: 0.0111\n",
      "Epoch 112/200\n",
      "12/12 [==============================] - 0s 5ms/step - loss: 0.0134 - val_loss: 0.0095\n",
      "Epoch 113/200\n",
      "12/12 [==============================] - 0s 5ms/step - loss: 0.0179 - val_loss: 0.0225\n",
      "Epoch 114/200\n",
      "12/12 [==============================] - 0s 6ms/step - loss: 0.0154 - val_loss: 0.0247\n",
      "Epoch 115/200\n",
      "12/12 [==============================] - 0s 6ms/step - loss: 0.0138 - val_loss: 0.0092\n",
      "Epoch 116/200\n",
      "12/12 [==============================] - 0s 7ms/step - loss: 0.0134 - val_loss: 0.0087\n",
      "Epoch 117/200\n",
      "12/12 [==============================] - 0s 6ms/step - loss: 0.0149 - val_loss: 0.0135\n",
      "Epoch 118/200\n",
      "12/12 [==============================] - 0s 6ms/step - loss: 0.0142 - val_loss: 0.0145\n",
      "Epoch 119/200\n",
      "12/12 [==============================] - 0s 7ms/step - loss: 0.0145 - val_loss: 0.0092\n",
      "Epoch 120/200\n",
      "12/12 [==============================] - 0s 7ms/step - loss: 0.0147 - val_loss: 0.0090\n",
      "Epoch 121/200\n",
      "12/12 [==============================] - 0s 6ms/step - loss: 0.0152 - val_loss: 0.0266\n",
      "Epoch 122/200\n",
      "12/12 [==============================] - 0s 5ms/step - loss: 0.0204 - val_loss: 0.0096\n",
      "Epoch 123/200\n",
      "12/12 [==============================] - 0s 5ms/step - loss: 0.0128 - val_loss: 0.0090\n",
      "Epoch 124/200\n",
      "12/12 [==============================] - 0s 5ms/step - loss: 0.0134 - val_loss: 0.0123\n",
      "Epoch 125/200\n",
      "12/12 [==============================] - 0s 5ms/step - loss: 0.0155 - val_loss: 0.0089\n",
      "Epoch 126/200\n",
      "12/12 [==============================] - 0s 5ms/step - loss: 0.0176 - val_loss: 0.0133\n",
      "Epoch 127/200\n",
      "12/12 [==============================] - 0s 5ms/step - loss: 0.0139 - val_loss: 0.0160\n",
      "Epoch 128/200\n",
      "12/12 [==============================] - 0s 5ms/step - loss: 0.0198 - val_loss: 0.0087\n",
      "Epoch 129/200\n",
      "12/12 [==============================] - 0s 4ms/step - loss: 0.0180 - val_loss: 0.0089\n",
      "Epoch 130/200\n",
      "12/12 [==============================] - 0s 5ms/step - loss: 0.0172 - val_loss: 0.0129\n",
      "Epoch 131/200\n",
      "12/12 [==============================] - 0s 6ms/step - loss: 0.0160 - val_loss: 0.0092\n",
      "Epoch 132/200\n",
      "12/12 [==============================] - 0s 5ms/step - loss: 0.0142 - val_loss: 0.0095\n",
      "Epoch 133/200\n",
      "12/12 [==============================] - 0s 5ms/step - loss: 0.0151 - val_loss: 0.0141\n",
      "Epoch 134/200\n",
      "12/12 [==============================] - 0s 5ms/step - loss: 0.0138 - val_loss: 0.0092\n",
      "Epoch 135/200\n",
      "12/12 [==============================] - 0s 5ms/step - loss: 0.0147 - val_loss: 0.0096\n",
      "Epoch 136/200\n",
      "12/12 [==============================] - 0s 5ms/step - loss: 0.0141 - val_loss: 0.0090\n",
      "Epoch 137/200\n",
      "12/12 [==============================] - 0s 5ms/step - loss: 0.0139 - val_loss: 0.0104\n",
      "Epoch 138/200\n",
      "12/12 [==============================] - 0s 5ms/step - loss: 0.0126 - val_loss: 0.0095\n",
      "Epoch 139/200\n",
      "12/12 [==============================] - 0s 6ms/step - loss: 0.0170 - val_loss: 0.0084\n",
      "Epoch 140/200\n",
      "12/12 [==============================] - 0s 5ms/step - loss: 0.0162 - val_loss: 0.0117\n",
      "Epoch 141/200\n",
      "12/12 [==============================] - 0s 7ms/step - loss: 0.0142 - val_loss: 0.0175\n",
      "Epoch 142/200\n",
      "12/12 [==============================] - 0s 5ms/step - loss: 0.0155 - val_loss: 0.0088\n",
      "Epoch 143/200\n",
      "12/12 [==============================] - 0s 5ms/step - loss: 0.0131 - val_loss: 0.0106\n",
      "Epoch 144/200\n",
      "12/12 [==============================] - 0s 5ms/step - loss: 0.0136 - val_loss: 0.0105\n",
      "Epoch 145/200\n",
      "12/12 [==============================] - 0s 5ms/step - loss: 0.0134 - val_loss: 0.0090\n",
      "Epoch 146/200\n",
      "12/12 [==============================] - 0s 5ms/step - loss: 0.0132 - val_loss: 0.0085\n",
      "Epoch 147/200\n",
      "12/12 [==============================] - 0s 5ms/step - loss: 0.0132 - val_loss: 0.0107\n",
      "Epoch 148/200\n",
      "12/12 [==============================] - 0s 5ms/step - loss: 0.0135 - val_loss: 0.0101\n",
      "Epoch 149/200\n",
      "12/12 [==============================] - 0s 4ms/step - loss: 0.0124 - val_loss: 0.0084\n",
      "Epoch 150/200\n",
      "12/12 [==============================] - 0s 6ms/step - loss: 0.0123 - val_loss: 0.0085\n",
      "Epoch 151/200\n",
      "12/12 [==============================] - 0s 6ms/step - loss: 0.0145 - val_loss: 0.0089\n",
      "Epoch 152/200\n",
      "12/12 [==============================] - 0s 5ms/step - loss: 0.0130 - val_loss: 0.0120\n",
      "Epoch 153/200\n",
      "12/12 [==============================] - 0s 5ms/step - loss: 0.0130 - val_loss: 0.0079\n",
      "Epoch 154/200\n",
      "12/12 [==============================] - 0s 5ms/step - loss: 0.0137 - val_loss: 0.0097\n",
      "Epoch 155/200\n",
      "12/12 [==============================] - 0s 5ms/step - loss: 0.0165 - val_loss: 0.0089\n",
      "Epoch 156/200\n",
      "12/12 [==============================] - 0s 5ms/step - loss: 0.0117 - val_loss: 0.0095\n",
      "Epoch 157/200\n",
      "12/12 [==============================] - 0s 5ms/step - loss: 0.0140 - val_loss: 0.0156\n",
      "Epoch 158/200\n",
      "12/12 [==============================] - 0s 5ms/step - loss: 0.0189 - val_loss: 0.0212\n",
      "Epoch 159/200\n",
      "12/12 [==============================] - 0s 4ms/step - loss: 0.0137 - val_loss: 0.0081\n",
      "Epoch 160/200\n",
      "12/12 [==============================] - 0s 5ms/step - loss: 0.0134 - val_loss: 0.0077\n",
      "Epoch 161/200\n",
      "12/12 [==============================] - 0s 5ms/step - loss: 0.0142 - val_loss: 0.0090\n",
      "Epoch 162/200\n",
      "12/12 [==============================] - 0s 4ms/step - loss: 0.0163 - val_loss: 0.0085\n",
      "Epoch 163/200\n",
      "12/12 [==============================] - 0s 4ms/step - loss: 0.0117 - val_loss: 0.0091\n",
      "Epoch 164/200\n"
     ]
    },
    {
     "name": "stdout",
     "output_type": "stream",
     "text": [
      "12/12 [==============================] - 0s 5ms/step - loss: 0.0124 - val_loss: 0.0101\n",
      "Epoch 165/200\n",
      "12/12 [==============================] - 0s 5ms/step - loss: 0.0114 - val_loss: 0.0100\n",
      "Epoch 166/200\n",
      "12/12 [==============================] - 0s 5ms/step - loss: 0.0112 - val_loss: 0.0080\n",
      "Epoch 167/200\n",
      "12/12 [==============================] - 0s 5ms/step - loss: 0.0107 - val_loss: 0.0078\n",
      "Epoch 168/200\n",
      "12/12 [==============================] - 0s 5ms/step - loss: 0.0108 - val_loss: 0.0125\n",
      "Epoch 169/200\n",
      "12/12 [==============================] - 0s 5ms/step - loss: 0.0160 - val_loss: 0.0125\n",
      "Epoch 170/200\n",
      "12/12 [==============================] - 0s 5ms/step - loss: 0.0134 - val_loss: 0.0087\n",
      "Epoch 171/200\n",
      "12/12 [==============================] - 0s 5ms/step - loss: 0.0126 - val_loss: 0.0071\n",
      "Epoch 172/200\n",
      "12/12 [==============================] - 0s 5ms/step - loss: 0.0110 - val_loss: 0.0132\n",
      "Epoch 173/200\n",
      "12/12 [==============================] - 0s 5ms/step - loss: 0.0119 - val_loss: 0.0149\n",
      "Epoch 174/200\n",
      "12/12 [==============================] - 0s 5ms/step - loss: 0.0127 - val_loss: 0.0119\n",
      "Epoch 175/200\n",
      "12/12 [==============================] - 0s 5ms/step - loss: 0.0118 - val_loss: 0.0099\n",
      "Epoch 176/200\n",
      "12/12 [==============================] - 0s 5ms/step - loss: 0.0129 - val_loss: 0.0156\n",
      "Epoch 177/200\n",
      "12/12 [==============================] - 0s 5ms/step - loss: 0.0153 - val_loss: 0.0062\n",
      "Epoch 178/200\n",
      "12/12 [==============================] - 0s 5ms/step - loss: 0.0205 - val_loss: 0.0308\n",
      "Epoch 179/200\n",
      "12/12 [==============================] - 0s 5ms/step - loss: 0.0144 - val_loss: 0.0090\n",
      "Epoch 180/200\n",
      "12/12 [==============================] - 0s 5ms/step - loss: 0.0107 - val_loss: 0.0057\n",
      "Epoch 181/200\n",
      "12/12 [==============================] - 0s 5ms/step - loss: 0.0101 - val_loss: 0.0081\n",
      "Epoch 182/200\n",
      "12/12 [==============================] - 0s 5ms/step - loss: 0.0095 - val_loss: 0.0077\n",
      "Epoch 183/200\n",
      "12/12 [==============================] - 0s 5ms/step - loss: 0.0081 - val_loss: 0.0052\n",
      "Epoch 184/200\n",
      "12/12 [==============================] - 0s 4ms/step - loss: 0.0075 - val_loss: 0.0050\n",
      "Epoch 185/200\n",
      "12/12 [==============================] - 0s 6ms/step - loss: 0.0080 - val_loss: 0.0109\n",
      "Epoch 186/200\n",
      "12/12 [==============================] - 0s 5ms/step - loss: 0.0101 - val_loss: 0.0064\n",
      "Epoch 187/200\n",
      "12/12 [==============================] - 0s 6ms/step - loss: 0.0074 - val_loss: 0.0044\n",
      "Epoch 188/200\n",
      "12/12 [==============================] - 0s 5ms/step - loss: 0.0073 - val_loss: 0.0046\n",
      "Epoch 189/200\n",
      "12/12 [==============================] - 0s 5ms/step - loss: 0.0069 - val_loss: 0.0041\n",
      "Epoch 190/200\n",
      "12/12 [==============================] - 0s 5ms/step - loss: 0.0066 - val_loss: 0.0054\n",
      "Epoch 191/200\n",
      "12/12 [==============================] - 0s 4ms/step - loss: 0.0110 - val_loss: 0.0050\n",
      "Epoch 192/200\n",
      "12/12 [==============================] - 0s 5ms/step - loss: 0.0163 - val_loss: 0.0292\n",
      "Epoch 193/200\n",
      "12/12 [==============================] - 0s 4ms/step - loss: 0.0117 - val_loss: 0.0068\n",
      "Epoch 194/200\n",
      "12/12 [==============================] - 0s 5ms/step - loss: 0.0072 - val_loss: 0.0048\n",
      "Epoch 195/200\n",
      "12/12 [==============================] - 0s 4ms/step - loss: 0.0067 - val_loss: 0.0031\n",
      "Epoch 196/200\n",
      "12/12 [==============================] - 0s 4ms/step - loss: 0.0053 - val_loss: 0.0034\n",
      "Epoch 197/200\n",
      "12/12 [==============================] - 0s 5ms/step - loss: 0.0047 - val_loss: 0.0037\n",
      "Epoch 198/200\n",
      "12/12 [==============================] - 0s 5ms/step - loss: 0.0049 - val_loss: 0.0026\n",
      "Epoch 199/200\n",
      "12/12 [==============================] - 0s 5ms/step - loss: 0.0037 - val_loss: 0.0035\n",
      "Epoch 200/200\n",
      "12/12 [==============================] - 0s 5ms/step - loss: 0.0035 - val_loss: 0.0023\n"
     ]
    },
    {
     "data": {
      "text/plain": [
       "<keras.callbacks.History at 0x2607f1a7be0>"
      ]
     },
     "execution_count": 55,
     "metadata": {},
     "output_type": "execute_result"
    }
   ],
   "source": [
    "model.fit(X_train,y_train,batch_size=16,epochs= 200, validation_data= (X_test,y_test))"
   ]
  },
  {
   "cell_type": "code",
   "execution_count": 56,
   "id": "696bb4c0",
   "metadata": {},
   "outputs": [
    {
     "name": "stdout",
     "output_type": "stream",
     "text": [
      "2/2 [==============================] - 0s 3ms/step\n"
     ]
    }
   ],
   "source": [
    "predictions = model.predict(X_test)"
   ]
  },
  {
   "cell_type": "code",
   "execution_count": 57,
   "id": "ece2e386",
   "metadata": {},
   "outputs": [
    {
     "data": {
      "text/plain": [
       "array([[2.256067 , 2.1344078, 3.0994267, 2.39389  , 1.9215038, 3.2039511,\n",
       "        1.9620571, 3.3346047, 3.1908853, 2.266205 , 2.936108 , 1.9417803,\n",
       "        2.4265535, 2.3873572, 2.753191 , 1.5530806, 2.5833395, 2.1648223,\n",
       "        2.968772 , 3.236614 , 2.8381166, 3.0210338, 3.386868 , 2.073578 ,\n",
       "        3.0079682, 2.00261  , 2.8969111, 3.112492 , 1.931642 , 2.2966201,\n",
       "        3.0145016, 1.9012272, 2.5506756, 3.1778197, 3.367269 , 3.0471644,\n",
       "        2.694396 , 2.446152 , 1.7224724, 2.98837  , 3.1974177, 2.8446493,\n",
       "        2.576807 , 1.8403976, 2.6029384, 3.1255572]], dtype=float32)"
      ]
     },
     "execution_count": 57,
     "metadata": {},
     "output_type": "execute_result"
    }
   ],
   "source": [
    "predictions.T"
   ]
  },
  {
   "cell_type": "code",
   "execution_count": 58,
   "id": "9330a901",
   "metadata": {},
   "outputs": [
    {
     "data": {
      "text/plain": [
       "<seaborn.axisgrid.PairGrid at 0x2607f29e790>"
      ]
     },
     "execution_count": 58,
     "metadata": {},
     "output_type": "execute_result"
    },
    {
     "data": {
      "image/png": "[encoded data removed]",
      "text/plain": [
       "<Figure size 576x576 with 6 Axes>"
      ]
     },
     "metadata": {
      "needs_background": "light"
     },
     "output_type": "display_data"
    }
   ],
   "source": [
    "df2 = pd.DataFrame(predictions,y_test, columns={\"Accurate Value\"})\n",
    "df2['Predicted Value'] = y_test\n",
    "df2.index = np.arange(1,X_test.size+1,1)\n",
    "sns.pairplot(df2, height = 4)"
   ]
  },
  {
   "cell_type": "code",
   "execution_count": 59,
   "id": "f7a11d1e",
   "metadata": {},
   "outputs": [
    {
     "data": {
      "text/plain": [
       "0.9911728172921871"
      ]
     },
     "execution_count": 59,
     "metadata": {},
     "output_type": "execute_result"
    }
   ],
   "source": [
    "r2_score(y_test,predictions)"
   ]
  },
  {
   "cell_type": "code",
   "execution_count": 60,
   "id": "33730b06",
   "metadata": {},
   "outputs": [
    {
     "data": {
      "text/plain": [
       "0.002318281408350412"
      ]
     },
     "execution_count": 60,
     "metadata": {},
     "output_type": "execute_result"
    }
   ],
   "source": [
    "mean_squared_error(y_test,predictions)"
   ]
  },
  {
   "cell_type": "markdown",
   "id": "c00e3c1e",
   "metadata": {},
   "source": [
    "### Using Random Search to improve ANN"
   ]
  },
  {
   "cell_type": "code",
   "execution_count": 33,
   "id": "ef339951",
   "metadata": {},
   "outputs": [],
   "source": [
    "import keras_tuner as kt\n",
    "import tensorflow as tf"
   ]
  },
  {
   "cell_type": "code",
   "execution_count": 34,
   "id": "44527b38",
   "metadata": {},
   "outputs": [],
   "source": [
    "\n",
    "def build_model(hp):\n",
    "  model = tf.keras.Sequential()\n",
    "  \n",
    "  # Tune the number of units in the first Dense layer\n",
    "  # Choose an optimal value between 32-512\n",
    "  hp_units1 = hp.Int('units1', min_value=32, max_value=512, step=32)\n",
    "  hp_units2 = hp.Int('units2', min_value=32, max_value=512, step=32)\n",
    "  hp_units3 = hp.Int('units3', min_value=32, max_value=512, step=32)\n",
    "  model.add(Dense(units=hp_units1, activation='relu'))\n",
    "  model.add(tf.keras.layers.Dense(units=hp_units2, activation='relu'))\n",
    "  model.add(tf.keras.layers.Dense(units=hp_units3, activation='relu'))\n",
    "  model.add(Dense(1, kernel_initializer='normal', activation='linear'))\n",
    "\n",
    "  # Tune the learning rate for the optimizer\n",
    "  # Choose an optimal value from 0.01, 0.001, or 0.0001\n",
    "  hp_learning_rate = hp.Choice('learning_rate', values=[1e-2, 1e-3, 1e-4])\n",
    "\n",
    "  model.compile(\n",
    "      optimizer=tf.keras.optimizers.Adam(learning_rate=hp_learning_rate),\n",
    "      loss=\"mse\",\n",
    "  )\n",
    "\n",
    "  return model"
   ]
  },
  {
   "cell_type": "code",
   "execution_count": 35,
   "id": "e692dd17",
   "metadata": {},
   "outputs": [
    {
     "name": "stdout",
     "output_type": "stream",
     "text": [
      "Trial 20 Complete [00h 00m 09s]\n",
      "val_loss: 0.4109063148498535\n",
      "\n",
      "Best val_loss So Far: 0.003958775700690846\n",
      "Total elapsed time: 00h 02m 59s\n",
      "INFO:tensorflow:Oracle triggered exit\n"
     ]
    }
   ],
   "source": [
    "\n",
    "tuner = RandomSearch(build_model,\n",
    "  objective='val_loss',\n",
    "  max_trials= 20,\n",
    "  executions_per_trial=3,\n",
    "  directory='keras_tuner',\n",
    "  project_name='fashion_mnist',\n",
    "  overwrite=True\n",
    ")\n",
    "tuner.search(X_train, y_train, epochs=30, validation_split=0.2)"
   ]
  },
  {
   "cell_type": "code",
   "execution_count": 36,
   "id": "723d53ca",
   "metadata": {},
   "outputs": [],
   "source": [
    "best_hps=tuner.get_best_hyperparameters(num_trials=1)[0]"
   ]
  },
  {
   "cell_type": "code",
   "execution_count": 37,
   "id": "f92b73f3",
   "metadata": {},
   "outputs": [],
   "source": [
    "from tensorflow.keras.callbacks import EarlyStopping"
   ]
  },
  {
   "cell_type": "code",
   "execution_count": 38,
   "id": "d8bc36db",
   "metadata": {},
   "outputs": [],
   "source": [
    "early_stop = EarlyStopping(monitor=\"val_loss\", patience= 15, mode= \"auto\")"
   ]
  },
  {
   "cell_type": "code",
   "execution_count": null,
   "id": "a759e5e0",
   "metadata": {},
   "outputs": [],
   "source": []
  },
  {
   "cell_type": "code",
   "execution_count": 39,
   "id": "6c258351",
   "metadata": {},
   "outputs": [
    {
     "name": "stdout",
     "output_type": "stream",
     "text": [
      "Epoch 1/200\n",
      "5/5 [==============================] - 0s 30ms/step - loss: 3478.9727 - val_loss: 111.6919\n",
      "Epoch 2/200\n",
      "5/5 [==============================] - 0s 13ms/step - loss: 36.0193 - val_loss: 6.4308\n",
      "Epoch 3/200\n",
      "5/5 [==============================] - 0s 12ms/step - loss: 4.0694 - val_loss: 0.4918\n",
      "Epoch 4/200\n",
      "5/5 [==============================] - 0s 11ms/step - loss: 1.2685 - val_loss: 0.6522\n",
      "Epoch 5/200\n",
      "5/5 [==============================] - 0s 12ms/step - loss: 0.5759 - val_loss: 0.8759\n",
      "Epoch 6/200\n",
      "5/5 [==============================] - 0s 13ms/step - loss: 0.7071 - val_loss: 0.4309\n",
      "Epoch 7/200\n",
      "5/5 [==============================] - 0s 11ms/step - loss: 0.4770 - val_loss: 0.4719\n",
      "Epoch 8/200\n",
      "5/5 [==============================] - 0s 12ms/step - loss: 0.4640 - val_loss: 0.3923\n",
      "Epoch 9/200\n",
      "5/5 [==============================] - 0s 12ms/step - loss: 0.3985 - val_loss: 0.3527\n",
      "Epoch 10/200\n",
      "5/5 [==============================] - 0s 13ms/step - loss: 0.3602 - val_loss: 0.2987\n",
      "Epoch 11/200\n",
      "5/5 [==============================] - 0s 15ms/step - loss: 0.3108 - val_loss: 0.2602\n",
      "Epoch 12/200\n",
      "5/5 [==============================] - 0s 12ms/step - loss: 0.2434 - val_loss: 0.1963\n",
      "Epoch 13/200\n",
      "5/5 [==============================] - 0s 12ms/step - loss: 0.1829 - val_loss: 0.1539\n",
      "Epoch 14/200\n",
      "5/5 [==============================] - 0s 11ms/step - loss: 0.1283 - val_loss: 0.0947\n",
      "Epoch 15/200\n",
      "5/5 [==============================] - 0s 12ms/step - loss: 0.0753 - val_loss: 0.0578\n",
      "Epoch 16/200\n",
      "5/5 [==============================] - 0s 13ms/step - loss: 0.0406 - val_loss: 0.0258\n",
      "Epoch 17/200\n",
      "5/5 [==============================] - 0s 12ms/step - loss: 0.0181 - val_loss: 0.0116\n",
      "Epoch 18/200\n",
      "5/5 [==============================] - 0s 11ms/step - loss: 0.0114 - val_loss: 0.0114\n",
      "Epoch 19/200\n",
      "5/5 [==============================] - 0s 10ms/step - loss: 0.0130 - val_loss: 0.0111\n",
      "Epoch 20/200\n",
      "5/5 [==============================] - 0s 11ms/step - loss: 0.0163 - val_loss: 0.0079\n",
      "Epoch 21/200\n",
      "5/5 [==============================] - 0s 11ms/step - loss: 0.0137 - val_loss: 0.0093\n",
      "Epoch 22/200\n",
      "5/5 [==============================] - 0s 10ms/step - loss: 0.0121 - val_loss: 0.0095\n",
      "Epoch 23/200\n",
      "5/5 [==============================] - 0s 11ms/step - loss: 0.0105 - val_loss: 0.0124\n",
      "Epoch 24/200\n",
      "5/5 [==============================] - 0s 15ms/step - loss: 0.0107 - val_loss: 0.0093\n",
      "Epoch 25/200\n",
      "5/5 [==============================] - 0s 12ms/step - loss: 0.0100 - val_loss: 0.0103\n",
      "Epoch 26/200\n",
      "5/5 [==============================] - 0s 11ms/step - loss: 0.0120 - val_loss: 0.0112\n",
      "Epoch 27/200\n",
      "5/5 [==============================] - 0s 10ms/step - loss: 0.0112 - val_loss: 0.0089\n",
      "Epoch 28/200\n",
      "5/5 [==============================] - 0s 13ms/step - loss: 0.0091 - val_loss: 0.0105\n",
      "Epoch 29/200\n",
      "5/5 [==============================] - 0s 10ms/step - loss: 0.0099 - val_loss: 0.0071\n",
      "Epoch 30/200\n",
      "5/5 [==============================] - 0s 11ms/step - loss: 0.0094 - val_loss: 0.0069\n",
      "Epoch 31/200\n",
      "5/5 [==============================] - 0s 10ms/step - loss: 0.0087 - val_loss: 0.0074\n",
      "Epoch 32/200\n",
      "5/5 [==============================] - 0s 11ms/step - loss: 0.0083 - val_loss: 0.0067\n",
      "Epoch 33/200\n",
      "5/5 [==============================] - 0s 10ms/step - loss: 0.0080 - val_loss: 0.0076\n",
      "Epoch 34/200\n",
      "5/5 [==============================] - 0s 10ms/step - loss: 0.0084 - val_loss: 0.0070\n",
      "Epoch 35/200\n",
      "5/5 [==============================] - 0s 13ms/step - loss: 0.0079 - val_loss: 0.0083\n",
      "Epoch 36/200\n",
      "5/5 [==============================] - 0s 12ms/step - loss: 0.0080 - val_loss: 0.0068\n",
      "Epoch 37/200\n",
      "5/5 [==============================] - 0s 11ms/step - loss: 0.0081 - val_loss: 0.0065\n",
      "Epoch 38/200\n",
      "5/5 [==============================] - 0s 14ms/step - loss: 0.0076 - val_loss: 0.0063\n",
      "Epoch 39/200\n",
      "5/5 [==============================] - 0s 12ms/step - loss: 0.0072 - val_loss: 0.0061\n",
      "Epoch 40/200\n",
      "5/5 [==============================] - 0s 12ms/step - loss: 0.0073 - val_loss: 0.0066\n",
      "Epoch 41/200\n",
      "5/5 [==============================] - 0s 13ms/step - loss: 0.0077 - val_loss: 0.0073\n",
      "Epoch 42/200\n",
      "5/5 [==============================] - 0s 11ms/step - loss: 0.0076 - val_loss: 0.0054\n",
      "Epoch 43/200\n",
      "5/5 [==============================] - 0s 10ms/step - loss: 0.0071 - val_loss: 0.0062\n",
      "Epoch 44/200\n",
      "5/5 [==============================] - 0s 11ms/step - loss: 0.0075 - val_loss: 0.0055\n",
      "Epoch 45/200\n",
      "5/5 [==============================] - 0s 10ms/step - loss: 0.0066 - val_loss: 0.0047\n",
      "Epoch 46/200\n",
      "5/5 [==============================] - 0s 11ms/step - loss: 0.0062 - val_loss: 0.0047\n",
      "Epoch 47/200\n",
      "5/5 [==============================] - 0s 11ms/step - loss: 0.0062 - val_loss: 0.0047\n",
      "Epoch 48/200\n",
      "5/5 [==============================] - 0s 10ms/step - loss: 0.0064 - val_loss: 0.0044\n",
      "Epoch 49/200\n",
      "5/5 [==============================] - 0s 10ms/step - loss: 0.0065 - val_loss: 0.0059\n",
      "Epoch 50/200\n",
      "5/5 [==============================] - 0s 12ms/step - loss: 0.0065 - val_loss: 0.0043\n",
      "Epoch 51/200\n",
      "5/5 [==============================] - 0s 12ms/step - loss: 0.0057 - val_loss: 0.0040\n",
      "Epoch 52/200\n",
      "5/5 [==============================] - 0s 12ms/step - loss: 0.0055 - val_loss: 0.0039\n",
      "Epoch 53/200\n",
      "5/5 [==============================] - 0s 14ms/step - loss: 0.0057 - val_loss: 0.0048\n",
      "Epoch 54/200\n",
      "5/5 [==============================] - 0s 11ms/step - loss: 0.0060 - val_loss: 0.0039\n",
      "Epoch 55/200\n",
      "5/5 [==============================] - 0s 11ms/step - loss: 0.0055 - val_loss: 0.0035\n",
      "Epoch 56/200\n",
      "5/5 [==============================] - 0s 10ms/step - loss: 0.0050 - val_loss: 0.0033\n",
      "Epoch 57/200\n",
      "5/5 [==============================] - 0s 10ms/step - loss: 0.0046 - val_loss: 0.0031\n",
      "Epoch 58/200\n",
      "5/5 [==============================] - 0s 11ms/step - loss: 0.0044 - val_loss: 0.0035\n",
      "Epoch 59/200\n",
      "5/5 [==============================] - 0s 13ms/step - loss: 0.0047 - val_loss: 0.0028\n",
      "Epoch 60/200\n",
      "5/5 [==============================] - 0s 12ms/step - loss: 0.0042 - val_loss: 0.0029\n",
      "Epoch 61/200\n",
      "5/5 [==============================] - 0s 10ms/step - loss: 0.0042 - val_loss: 0.0026\n",
      "Epoch 62/200\n",
      "5/5 [==============================] - 0s 10ms/step - loss: 0.0039 - val_loss: 0.0026\n",
      "Epoch 63/200\n",
      "5/5 [==============================] - 0s 10ms/step - loss: 0.0039 - val_loss: 0.0023\n",
      "Epoch 64/200\n",
      "5/5 [==============================] - 0s 12ms/step - loss: 0.0036 - val_loss: 0.0024\n",
      "Epoch 65/200\n",
      "5/5 [==============================] - 0s 11ms/step - loss: 0.0035 - val_loss: 0.0031\n",
      "Epoch 66/200\n",
      "5/5 [==============================] - 0s 10ms/step - loss: 0.0035 - val_loss: 0.0043\n",
      "Epoch 67/200\n",
      "5/5 [==============================] - 0s 10ms/step - loss: 0.0046 - val_loss: 0.0020\n",
      "Epoch 68/200\n",
      "5/5 [==============================] - 0s 10ms/step - loss: 0.0042 - val_loss: 0.0039\n",
      "Epoch 69/200\n",
      "5/5 [==============================] - 0s 12ms/step - loss: 0.0039 - val_loss: 0.0017\n",
      "Epoch 70/200\n",
      "5/5 [==============================] - 0s 11ms/step - loss: 0.0034 - val_loss: 0.0028\n",
      "Epoch 71/200\n",
      "5/5 [==============================] - 0s 10ms/step - loss: 0.0036 - val_loss: 0.0016\n",
      "Epoch 72/200\n",
      "5/5 [==============================] - 0s 11ms/step - loss: 0.0029 - val_loss: 0.0022\n",
      "Epoch 73/200\n",
      "5/5 [==============================] - 0s 11ms/step - loss: 0.0027 - val_loss: 0.0019\n",
      "Epoch 74/200\n",
      "5/5 [==============================] - 0s 10ms/step - loss: 0.0027 - val_loss: 0.0014\n",
      "Epoch 75/200\n",
      "5/5 [==============================] - 0s 11ms/step - loss: 0.0024 - val_loss: 0.0014\n",
      "Epoch 76/200\n",
      "5/5 [==============================] - 0s 10ms/step - loss: 0.0024 - val_loss: 0.0013\n",
      "Epoch 77/200\n",
      "5/5 [==============================] - 0s 11ms/step - loss: 0.0023 - val_loss: 0.0020\n",
      "Epoch 78/200\n",
      "5/5 [==============================] - 0s 20ms/step - loss: 0.0024 - val_loss: 0.0013\n",
      "Epoch 79/200\n",
      "5/5 [==============================] - 0s 12ms/step - loss: 0.0023 - val_loss: 0.0012\n",
      "Epoch 80/200\n",
      "5/5 [==============================] - 0s 11ms/step - loss: 0.0022 - val_loss: 0.0014\n",
      "Epoch 81/200\n",
      "5/5 [==============================] - 0s 12ms/step - loss: 0.0023 - val_loss: 0.0014\n",
      "Epoch 82/200\n",
      "5/5 [==============================] - 0s 11ms/step - loss: 0.0022 - val_loss: 0.0012\n",
      "Epoch 83/200\n",
      "5/5 [==============================] - 0s 12ms/step - loss: 0.0020 - val_loss: 0.0018\n"
     ]
    },
    {
     "name": "stdout",
     "output_type": "stream",
     "text": [
      "Epoch 84/200\n",
      "5/5 [==============================] - 0s 12ms/step - loss: 0.0025 - val_loss: 0.0014\n",
      "Epoch 85/200\n",
      "5/5 [==============================] - 0s 10ms/step - loss: 0.0024 - val_loss: 0.0010\n",
      "Epoch 86/200\n",
      "5/5 [==============================] - 0s 12ms/step - loss: 0.0025 - val_loss: 0.0011\n",
      "Epoch 87/200\n",
      "5/5 [==============================] - 0s 11ms/step - loss: 0.0018 - val_loss: 0.0010\n",
      "Epoch 88/200\n",
      "5/5 [==============================] - 0s 10ms/step - loss: 0.0019 - val_loss: 9.4728e-04\n",
      "Epoch 89/200\n",
      "5/5 [==============================] - 0s 11ms/step - loss: 0.0020 - val_loss: 0.0020\n",
      "Epoch 90/200\n",
      "5/5 [==============================] - 0s 12ms/step - loss: 0.0020 - val_loss: 0.0013\n",
      "Epoch 91/200\n",
      "5/5 [==============================] - 0s 10ms/step - loss: 0.0021 - val_loss: 0.0020\n",
      "Epoch 92/200\n",
      "5/5 [==============================] - 0s 10ms/step - loss: 0.0023 - val_loss: 0.0019\n",
      "Epoch 93/200\n",
      "5/5 [==============================] - 0s 11ms/step - loss: 0.0022 - val_loss: 0.0011\n",
      "Epoch 94/200\n",
      "5/5 [==============================] - 0s 11ms/step - loss: 0.0018 - val_loss: 8.5838e-04\n",
      "Epoch 95/200\n",
      "5/5 [==============================] - 0s 12ms/step - loss: 0.0017 - val_loss: 8.5327e-04\n",
      "Epoch 96/200\n",
      "5/5 [==============================] - 0s 11ms/step - loss: 0.0016 - val_loss: 0.0010\n",
      "Epoch 97/200\n",
      "5/5 [==============================] - 0s 11ms/step - loss: 0.0020 - val_loss: 0.0011\n",
      "Epoch 98/200\n",
      "5/5 [==============================] - 0s 10ms/step - loss: 0.0018 - val_loss: 0.0019\n",
      "Epoch 99/200\n",
      "5/5 [==============================] - 0s 10ms/step - loss: 0.0019 - val_loss: 0.0022\n",
      "Epoch 100/200\n",
      "5/5 [==============================] - 0s 12ms/step - loss: 0.0022 - val_loss: 7.8255e-04\n",
      "Epoch 101/200\n",
      "5/5 [==============================] - 0s 11ms/step - loss: 0.0015 - val_loss: 7.8162e-04\n",
      "Epoch 102/200\n",
      "5/5 [==============================] - 0s 10ms/step - loss: 0.0014 - val_loss: 8.6863e-04\n",
      "Epoch 103/200\n",
      "5/5 [==============================] - 0s 11ms/step - loss: 0.0015 - val_loss: 9.3659e-04\n",
      "Epoch 104/200\n",
      "5/5 [==============================] - 0s 13ms/step - loss: 0.0016 - val_loss: 0.0013\n",
      "Epoch 105/200\n",
      "5/5 [==============================] - 0s 10ms/step - loss: 0.0015 - val_loss: 0.0011\n",
      "Epoch 106/200\n",
      "5/5 [==============================] - 0s 10ms/step - loss: 0.0016 - val_loss: 0.0033\n",
      "Epoch 107/200\n",
      "5/5 [==============================] - 0s 9ms/step - loss: 0.0025 - val_loss: 0.0023\n",
      "Epoch 108/200\n",
      "5/5 [==============================] - 0s 13ms/step - loss: 0.0019 - val_loss: 6.9233e-04\n",
      "Epoch 109/200\n",
      "5/5 [==============================] - 0s 11ms/step - loss: 0.0014 - val_loss: 6.5252e-04\n",
      "Epoch 110/200\n",
      "5/5 [==============================] - 0s 10ms/step - loss: 0.0014 - val_loss: 6.4348e-04\n",
      "Epoch 111/200\n",
      "5/5 [==============================] - 0s 10ms/step - loss: 0.0013 - val_loss: 8.3465e-04\n",
      "Epoch 112/200\n",
      "5/5 [==============================] - 0s 12ms/step - loss: 0.0013 - val_loss: 0.0016\n",
      "Epoch 113/200\n",
      "5/5 [==============================] - 0s 11ms/step - loss: 0.0016 - val_loss: 0.0011\n",
      "Epoch 114/200\n",
      "5/5 [==============================] - 0s 10ms/step - loss: 0.0013 - val_loss: 5.9012e-04\n",
      "Epoch 115/200\n",
      "5/5 [==============================] - 0s 11ms/step - loss: 0.0014 - val_loss: 5.7288e-04\n",
      "Epoch 116/200\n",
      "5/5 [==============================] - 0s 10ms/step - loss: 0.0013 - val_loss: 7.4944e-04\n",
      "Epoch 117/200\n",
      "5/5 [==============================] - 0s 12ms/step - loss: 0.0014 - val_loss: 8.2589e-04\n",
      "Epoch 118/200\n",
      "5/5 [==============================] - 0s 11ms/step - loss: 0.0014 - val_loss: 6.9521e-04\n",
      "Epoch 119/200\n",
      "5/5 [==============================] - 0s 10ms/step - loss: 0.0018 - val_loss: 0.0018\n",
      "Epoch 120/200\n",
      "5/5 [==============================] - 0s 11ms/step - loss: 0.0018 - val_loss: 9.9316e-04\n",
      "Epoch 121/200\n",
      "5/5 [==============================] - 0s 12ms/step - loss: 0.0015 - val_loss: 0.0012\n",
      "Epoch 122/200\n",
      "5/5 [==============================] - 0s 11ms/step - loss: 0.0017 - val_loss: 9.2005e-04\n",
      "Epoch 123/200\n",
      "5/5 [==============================] - 0s 11ms/step - loss: 0.0014 - val_loss: 0.0010\n",
      "Epoch 124/200\n",
      "5/5 [==============================] - 0s 10ms/step - loss: 0.0012 - val_loss: 6.9350e-04\n",
      "Epoch 125/200\n",
      "5/5 [==============================] - 0s 11ms/step - loss: 0.0011 - val_loss: 4.8534e-04\n",
      "Epoch 126/200\n",
      "5/5 [==============================] - 0s 11ms/step - loss: 0.0013 - val_loss: 6.4535e-04\n",
      "Epoch 127/200\n",
      "5/5 [==============================] - 0s 11ms/step - loss: 0.0015 - val_loss: 0.0012\n",
      "Epoch 128/200\n",
      "5/5 [==============================] - 0s 13ms/step - loss: 0.0020 - val_loss: 4.4582e-04\n",
      "Epoch 129/200\n",
      "5/5 [==============================] - 0s 11ms/step - loss: 0.0014 - val_loss: 4.2640e-04\n",
      "Epoch 130/200\n",
      "5/5 [==============================] - 0s 10ms/step - loss: 0.0012 - val_loss: 4.2259e-04\n",
      "Epoch 131/200\n",
      "5/5 [==============================] - 0s 10ms/step - loss: 0.0011 - val_loss: 5.4535e-04\n",
      "Epoch 132/200\n",
      "5/5 [==============================] - 0s 12ms/step - loss: 0.0011 - val_loss: 4.2714e-04\n",
      "Epoch 133/200\n",
      "5/5 [==============================] - 0s 11ms/step - loss: 0.0010 - val_loss: 4.3468e-04\n",
      "Epoch 134/200\n",
      "5/5 [==============================] - 0s 12ms/step - loss: 0.0012 - val_loss: 4.2574e-04\n",
      "Epoch 135/200\n",
      "5/5 [==============================] - 0s 10ms/step - loss: 0.0011 - val_loss: 7.8196e-04\n",
      "Epoch 136/200\n",
      "5/5 [==============================] - 0s 10ms/step - loss: 0.0012 - val_loss: 7.6851e-04\n",
      "Epoch 137/200\n",
      "5/5 [==============================] - 0s 10ms/step - loss: 0.0012 - val_loss: 4.1082e-04\n",
      "Epoch 138/200\n",
      "5/5 [==============================] - 0s 12ms/step - loss: 0.0012 - val_loss: 4.2519e-04\n",
      "Epoch 139/200\n",
      "5/5 [==============================] - 0s 11ms/step - loss: 0.0010 - val_loss: 4.8129e-04\n",
      "Epoch 140/200\n",
      "5/5 [==============================] - 0s 10ms/step - loss: 0.0011 - val_loss: 4.0102e-04\n",
      "Epoch 141/200\n",
      "5/5 [==============================] - 0s 12ms/step - loss: 9.6651e-04 - val_loss: 6.4860e-04\n",
      "Epoch 142/200\n",
      "5/5 [==============================] - 0s 11ms/step - loss: 9.2166e-04 - val_loss: 4.5921e-04\n",
      "Epoch 143/200\n",
      "5/5 [==============================] - 0s 11ms/step - loss: 9.4883e-04 - val_loss: 0.0029\n",
      "Epoch 144/200\n",
      "5/5 [==============================] - 0s 11ms/step - loss: 0.0021 - val_loss: 0.0014\n",
      "Epoch 145/200\n",
      "5/5 [==============================] - 0s 10ms/step - loss: 0.0015 - val_loss: 9.9135e-04\n",
      "Epoch 146/200\n",
      "5/5 [==============================] - 0s 11ms/step - loss: 0.0011 - val_loss: 6.0284e-04\n",
      "Epoch 147/200\n",
      "5/5 [==============================] - 0s 10ms/step - loss: 9.5892e-04 - val_loss: 3.9394e-04\n",
      "Epoch 148/200\n",
      "5/5 [==============================] - 0s 11ms/step - loss: 9.9652e-04 - val_loss: 9.4002e-04\n",
      "Epoch 149/200\n",
      "5/5 [==============================] - 0s 11ms/step - loss: 0.0012 - val_loss: 5.0698e-04\n",
      "Epoch 150/200\n",
      "5/5 [==============================] - 0s 11ms/step - loss: 0.0011 - val_loss: 4.3320e-04\n",
      "Epoch 151/200\n",
      "5/5 [==============================] - 0s 11ms/step - loss: 0.0014 - val_loss: 6.2994e-04\n",
      "Epoch 152/200\n",
      "5/5 [==============================] - 0s 12ms/step - loss: 0.0014 - val_loss: 0.0019\n",
      "Epoch 153/200\n",
      "5/5 [==============================] - 0s 15ms/step - loss: 0.0016 - val_loss: 0.0013\n",
      "Epoch 154/200\n",
      "5/5 [==============================] - 0s 11ms/step - loss: 0.0011 - val_loss: 0.0025\n",
      "Epoch 155/200\n",
      "5/5 [==============================] - 0s 10ms/step - loss: 0.0014 - val_loss: 6.7796e-04\n",
      "Epoch 156/200\n",
      "5/5 [==============================] - 0s 10ms/step - loss: 9.7267e-04 - val_loss: 3.5887e-04\n",
      "Epoch 157/200\n",
      "5/5 [==============================] - 0s 11ms/step - loss: 9.4004e-04 - val_loss: 5.4124e-04\n",
      "Epoch 158/200\n",
      "5/5 [==============================] - 0s 10ms/step - loss: 9.1856e-04 - val_loss: 4.9936e-04\n",
      "Epoch 159/200\n",
      "5/5 [==============================] - 0s 11ms/step - loss: 9.1577e-04 - val_loss: 3.6528e-04\n",
      "Epoch 160/200\n",
      "5/5 [==============================] - 0s 11ms/step - loss: 9.8284e-04 - val_loss: 5.5960e-04\n",
      "Epoch 161/200\n",
      "5/5 [==============================] - 0s 10ms/step - loss: 0.0011 - val_loss: 4.3287e-04\n",
      "Epoch 162/200\n",
      "5/5 [==============================] - 0s 13ms/step - loss: 0.0013 - val_loss: 0.0010\n",
      "Epoch 163/200\n"
     ]
    },
    {
     "name": "stdout",
     "output_type": "stream",
     "text": [
      "5/5 [==============================] - 0s 11ms/step - loss: 0.0017 - val_loss: 7.4282e-04\n",
      "Epoch 164/200\n",
      "5/5 [==============================] - 0s 11ms/step - loss: 9.5255e-04 - val_loss: 0.0012\n",
      "Epoch 165/200\n",
      "5/5 [==============================] - 0s 10ms/step - loss: 0.0019 - val_loss: 0.0027\n",
      "Epoch 166/200\n",
      "5/5 [==============================] - 0s 12ms/step - loss: 0.0034 - val_loss: 5.7586e-04\n",
      "Epoch 167/200\n",
      "5/5 [==============================] - 0s 11ms/step - loss: 0.0027 - val_loss: 0.0026\n",
      "Epoch 168/200\n",
      "5/5 [==============================] - 0s 12ms/step - loss: 0.0018 - val_loss: 0.0021\n",
      "Epoch 169/200\n",
      "5/5 [==============================] - 0s 11ms/step - loss: 0.0013 - val_loss: 7.2540e-04\n",
      "Epoch 170/200\n",
      "5/5 [==============================] - 0s 10ms/step - loss: 9.7105e-04 - val_loss: 7.8107e-04\n",
      "Epoch 171/200\n",
      "5/5 [==============================] - 0s 10ms/step - loss: 8.9814e-04 - val_loss: 9.3349e-04\n",
      "Epoch 172/200\n",
      "5/5 [==============================] - 0s 12ms/step - loss: 0.0011 - val_loss: 5.3716e-04\n",
      "Epoch 173/200\n",
      "5/5 [==============================] - 0s 11ms/step - loss: 8.8042e-04 - val_loss: 0.0011\n",
      "Epoch 174/200\n",
      "5/5 [==============================] - 0s 12ms/step - loss: 9.6505e-04 - val_loss: 5.5493e-04\n",
      "Epoch 175/200\n",
      "5/5 [==============================] - 0s 11ms/step - loss: 8.6893e-04 - val_loss: 0.0013\n",
      "Epoch 176/200\n",
      "5/5 [==============================] - 0s 10ms/step - loss: 0.0013 - val_loss: 6.4505e-04\n",
      "Epoch 177/200\n",
      "5/5 [==============================] - 0s 11ms/step - loss: 0.0010 - val_loss: 9.1623e-04\n",
      "Epoch 178/200\n",
      "5/5 [==============================] - 0s 12ms/step - loss: 9.8989e-04 - val_loss: 4.3504e-04\n",
      "Epoch 179/200\n",
      "5/5 [==============================] - 0s 11ms/step - loss: 0.0011 - val_loss: 5.4718e-04\n",
      "Epoch 180/200\n",
      "5/5 [==============================] - 0s 10ms/step - loss: 9.8933e-04 - val_loss: 9.1219e-04\n",
      "Epoch 181/200\n",
      "5/5 [==============================] - 0s 10ms/step - loss: 0.0014 - val_loss: 4.7142e-04\n",
      "Epoch 182/200\n",
      "5/5 [==============================] - 0s 11ms/step - loss: 0.0013 - val_loss: 3.4484e-04\n",
      "Epoch 183/200\n",
      "5/5 [==============================] - 0s 12ms/step - loss: 0.0018 - val_loss: 5.5051e-04\n",
      "Epoch 184/200\n",
      "5/5 [==============================] - 0s 11ms/step - loss: 0.0019 - val_loss: 0.0012\n",
      "Epoch 185/200\n",
      "5/5 [==============================] - 0s 10ms/step - loss: 0.0019 - val_loss: 0.0033\n",
      "Epoch 186/200\n",
      "5/5 [==============================] - 0s 12ms/step - loss: 0.0033 - val_loss: 0.0039\n",
      "Epoch 187/200\n",
      "5/5 [==============================] - 0s 11ms/step - loss: 0.0028 - val_loss: 0.0012\n",
      "Epoch 188/200\n",
      "5/5 [==============================] - 0s 10ms/step - loss: 0.0011 - val_loss: 9.0138e-04\n",
      "Epoch 189/200\n",
      "5/5 [==============================] - 0s 10ms/step - loss: 0.0019 - val_loss: 6.6836e-04\n",
      "Epoch 190/200\n",
      "5/5 [==============================] - 0s 11ms/step - loss: 0.0011 - val_loss: 5.3991e-04\n",
      "Epoch 191/200\n",
      "5/5 [==============================] - 0s 12ms/step - loss: 8.3627e-04 - val_loss: 4.0947e-04\n",
      "Epoch 192/200\n",
      "5/5 [==============================] - 0s 11ms/step - loss: 9.2662e-04 - val_loss: 5.0273e-04\n",
      "Epoch 193/200\n",
      "5/5 [==============================] - 0s 11ms/step - loss: 9.8918e-04 - val_loss: 4.9004e-04\n",
      "Epoch 194/200\n",
      "5/5 [==============================] - 0s 10ms/step - loss: 9.5037e-04 - val_loss: 4.2178e-04\n",
      "Epoch 195/200\n",
      "5/5 [==============================] - 0s 11ms/step - loss: 8.4032e-04 - val_loss: 3.8395e-04\n",
      "Epoch 196/200\n",
      "5/5 [==============================] - 0s 12ms/step - loss: 9.6125e-04 - val_loss: 3.9610e-04\n",
      "Epoch 197/200\n",
      "5/5 [==============================] - 0s 11ms/step - loss: 0.0013 - val_loss: 4.3048e-04\n",
      "Epoch 198/200\n",
      "5/5 [==============================] - 0s 10ms/step - loss: 8.7620e-04 - val_loss: 4.8844e-04\n",
      "Epoch 199/200\n",
      "5/5 [==============================] - 0s 12ms/step - loss: 8.3480e-04 - val_loss: 0.0029\n",
      "Epoch 200/200\n",
      "5/5 [==============================] - 0s 11ms/step - loss: 0.0028 - val_loss: 0.0013\n"
     ]
    }
   ],
   "source": [
    "from numpy.random import seed\n",
    "seed(1)\n",
    "tf.random.set_seed(2)\n",
    "model = tuner.hypermodel.build(best_hps)\n",
    "history = model.fit(X_train, y_train, epochs=200, validation_split=0.2)"
   ]
  },
  {
   "cell_type": "code",
   "execution_count": 40,
   "id": "3ab3a40a",
   "metadata": {},
   "outputs": [
    {
     "name": "stdout",
     "output_type": "stream",
     "text": [
      "2/2 [==============================] - 0s 4ms/step\n"
     ]
    }
   ],
   "source": [
    "predictions = model.predict(X_test)\n"
   ]
  },
  {
   "cell_type": "code",
   "execution_count": 41,
   "id": "3e54c76e",
   "metadata": {},
   "outputs": [
    {
     "name": "stdout",
     "output_type": "stream",
     "text": [
      "0.9948064440874664\n"
     ]
    },
    {
     "data": {
      "text/plain": [
       "<seaborn.axisgrid.PairGrid at 0x2607c7e3a00>"
      ]
     },
     "execution_count": 41,
     "metadata": {},
     "output_type": "execute_result"
    },
    {
     "data": {
      "image/png": "[encoded data removed]",
      "text/plain": [
       "<Figure size 576x576 with 6 Axes>"
      ]
     },
     "metadata": {
      "needs_background": "light"
     },
     "output_type": "display_data"
    }
   ],
   "source": [
    "print(r2_score(y_test,predictions))\n",
    "df2 = pd.DataFrame(predictions,y_test, columns={\"Accurate Value\"})\n",
    "df2['Predicted Value'] = y_test\n",
    "df2.index = np.arange(1,X_test.size+1,1)\n",
    "sns.pairplot(df2, height = 4)"
   ]
  }
 ],
 "metadata": {
  "kernelspec": {
   "display_name": "Python 3 (ipykernel)",
   "language": "python",
   "name": "python3"
  },
  "language_info": {
   "codemirror_mode": {
    "name": "ipython",
    "version": 3
   },
   "file_extension": ".py",
   "mimetype": "text/x-python",
   "name": "python",
   "nbconvert_exporter": "python",
   "pygments_lexer": "ipython3",
   "version": "3.9.7"
  }
 },
 "nbformat": 4,
 "nbformat_minor": 5
}
